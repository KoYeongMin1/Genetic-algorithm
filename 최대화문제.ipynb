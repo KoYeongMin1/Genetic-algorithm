{
 "cells": [
  {
   "cell_type": "code",
   "execution_count": 6,
   "id": "c8a7e905",
   "metadata": {},
   "outputs": [
    {
     "name": "stdout",
     "output_type": "stream",
     "text": [
      "최적해:  18.441990248026556\n",
      "최적값:  407.57260561275564\n"
     ]
    }
   ],
   "source": [
    "import random\n",
    "\n",
    "# 목적 함수 정의\n",
    "def objective_function(x):\n",
    "    return -x**2 + 40*x + 10\n",
    "\n",
    "# 초기 유전자 생성\n",
    "def generate_individual():\n",
    "    return random.uniform(0, 31)\n",
    "\n",
    "# 초기 세대 생성\n",
    "def generate_population(pop_size):\n",
    "    return [generate_individual() for _ in range(pop_size)]\n",
    "\n",
    "# 적합도 평가\n",
    "def evaluate_fitness(population):\n",
    "    fitness_scores = []\n",
    "    for individual in population:\n",
    "        fitness_scores.append(objective_function(individual))\n",
    "    return fitness_scores\n",
    "\n",
    "# 룰렛 휠 선택\n",
    "def roulette_wheel_selection(population, fitness_scores):\n",
    "    total_fitness = sum(fitness_scores)\n",
    "    selection_probs = [fitness / total_fitness for fitness in fitness_scores]\n",
    "    cumulative_probs = [sum(selection_probs[:i+1]) for i in range(len(selection_probs))]\n",
    "    selected = []\n",
    "    for _ in range(2):\n",
    "        r = random.random()\n",
    "        for i, cum_prob in enumerate(cumulative_probs):\n",
    "            if r <= cum_prob:\n",
    "                selected.append(population[i])\n",
    "                break\n",
    "    return selected\n",
    "\n",
    "# 교차\n",
    "def crossover(parent1, parent2):\n",
    "    return 0.5 * (parent1 + parent2)\n",
    "\n",
    "# 돌연변이\n",
    "def mutation(individual):\n",
    "    return individual + random.uniform(-1, 1)\n",
    "\n",
    "# 유전알고리즘\n",
    "def genetic_algorithm(pop_size, num_generations):\n",
    "    population = generate_population(pop_size)\n",
    "    for i in range(num_generations):\n",
    "        fitness_scores = evaluate_fitness(population)\n",
    "        new_population = []\n",
    "        while len(new_population) < pop_size:\n",
    "            parent1, parent2 = roulette_wheel_selection(population, fitness_scores)\n",
    "            child = crossover(parent1, parent2)\n",
    "            if random.random() < 0.1:\n",
    "                child = mutation(child)\n",
    "            if child < 0:\n",
    "                child = 0\n",
    "            elif child > 31:\n",
    "                child = 31\n",
    "            new_population.append(child)\n",
    "        population = new_population\n",
    "        #if i % 10 == 0:\n",
    "        #    print(\"{}th 세대 최적해 : {}\".format(i, best_individual = max(population, key=objective_function)))\n",
    "    best_individual = max(population, key=objective_function)\n",
    "    return best_individual\n",
    "\n",
    "# 실행\n",
    "best_solution = genetic_algorithm(pop_size=100, num_generations=100)\n",
    "print(\"최적해: \", best_solution)\n",
    "print(\"최적값: \", objective_function(best_solution))\n"
   ]
  },
  {
   "cell_type": "code",
   "execution_count": 7,
   "id": "a32a873b",
   "metadata": {},
   "outputs": [
    {
     "name": "stdout",
     "output_type": "stream",
     "text": [
      "세대 10의 최적해: 19.449634489164353\n",
      "세대 20의 최적해: 19.758455007308015\n",
      "세대 30의 최적해: 19.92590020221217\n",
      "세대 40의 최적해: 19.885586073507735\n",
      "세대 50의 최적해: 19.817814534377575\n",
      "세대 60의 최적해: 19.662091098044453\n",
      "세대 70의 최적해: 19.804949616189774\n",
      "세대 80의 최적해: 20.10308891030903\n",
      "세대 90의 최적해: 19.82452711244093\n",
      "세대 100의 최적해: 19.778302130140048\n",
      "최적해:  19.778302130140048\n",
      "최적값:  409.95085005449954\n"
     ]
    }
   ],
   "source": [
    "import random\n",
    "\n",
    "# 목적 함수 정의\n",
    "def objective_function(x):\n",
    "    return -x**2 + 40*x + 10\n",
    "\n",
    "# 초기 유전자 생성\n",
    "def generate_individual():\n",
    "    return random.uniform(0, 31)\n",
    "\n",
    "# 초기 세대 생성\n",
    "def generate_population(pop_size):\n",
    "    return [generate_individual() for _ in range(pop_size)]\n",
    "\n",
    "# 적합도 평가\n",
    "def evaluate_fitness(population):\n",
    "    fitness_scores = []\n",
    "    for individual in population:\n",
    "        fitness_scores.append(objective_function(individual))\n",
    "    return fitness_scores\n",
    "\n",
    "# 룰렛 휠 선택\n",
    "def roulette_wheel_selection(population, fitness_scores):\n",
    "    total_fitness = sum(fitness_scores)\n",
    "    selection_probs = [fitness / total_fitness for fitness in fitness_scores]\n",
    "    cumulative_probs = [sum(selection_probs[:i+1]) for i in range(len(selection_probs))]\n",
    "    selected = []\n",
    "    for _ in range(2):\n",
    "        r = random.random()\n",
    "        for i, cum_prob in enumerate(cumulative_probs):\n",
    "            if r <= cum_prob:\n",
    "                selected.append(population[i])\n",
    "                break\n",
    "    return selected\n",
    "\n",
    "# 교차\n",
    "def crossover(parent1, parent2):\n",
    "    return 0.5 * (parent1 + parent2)\n",
    "\n",
    "# 돌연변이\n",
    "def mutation(individual):\n",
    "    return individual + random.uniform(-1, 1)\n",
    "\n",
    "# 유전알고리즘\n",
    "def genetic_algorithm(pop_size, num_generations):\n",
    "    population = generate_population(pop_size)\n",
    "    for i in range(num_generations):\n",
    "        fitness_scores = evaluate_fitness(population)\n",
    "        new_population = []\n",
    "        while len(new_population) < pop_size:\n",
    "            parent1, parent2 = roulette_wheel_selection(population, fitness_scores)\n",
    "            child = crossover(parent1, parent2)\n",
    "            if random.random() < 0.1:\n",
    "                child = mutation(child)\n",
    "            if child < 0:\n",
    "                child = 0\n",
    "            elif child > 31:\n",
    "                child = 31\n",
    "            new_population.append(child)\n",
    "        population = new_population\n",
    "        if (i+1) % 10 == 0:\n",
    "            best_individual = max(population, key=objective_function)\n",
    "            print(\"세대 {}의 최적해: {}\".format(i+1, best_individual))\n",
    "    best_individual = max(population, key=objective_function)\n",
    "    return best_individual\n",
    "\n",
    "# 실행\n",
    "best_solution = genetic_algorithm(pop_size=100, num_generations=100)\n",
    "print(\"최적해: \", best_solution)\n",
    "print(\"최적값: \", objective_function(best_solution))\n"
   ]
  },
  {
   "cell_type": "code",
   "execution_count": 8,
   "id": "f272fcc3",
   "metadata": {},
   "outputs": [
    {
     "name": "stdout",
     "output_type": "stream",
     "text": [
      "세대 10의 최적해: 19.705081825634736, 적합도: 409.91302327042905\n",
      "세대 20의 최적해: 19.0713370818031, 적합도: 409.13758518436606\n",
      "세대 30의 최적해: 19.23838658591367, 적합도: 409.4199450074838\n",
      "세대 40의 최적해: 19.365213683540446, 적합도: 409.5970463324357\n",
      "세대 50의 최적해: 19.436469088536406, 적합도: 409.68243291182495\n",
      "세대 60의 최적해: 19.114799879576594, 적합도: 409.2164207468024\n",
      "세대 70의 최적해: 19.302915074145254, 적합도: 409.51407260614616\n",
      "세대 80의 최적해: 19.318336392502054, 적합도: 409.53533472621297\n",
      "세대 90의 최적해: 19.23939502685991, 적합도: 409.42148007483456\n",
      "세대 100의 최적해: 19.148554797791178, 적합도: 409.2750410676356\n",
      "최적해:  19.148554797791178\n",
      "최적값:  409.2750410676356\n"
     ]
    }
   ],
   "source": [
    "import random\n",
    "\n",
    "# 목적 함수 정의\n",
    "def objective_function(x):\n",
    "    return -x**2 + 40*x + 10\n",
    "\n",
    "# 초기 유전자 생성\n",
    "def generate_individual():\n",
    "    return random.uniform(0, 31)\n",
    "\n",
    "# 초기 세대 생성\n",
    "def generate_population(pop_size):\n",
    "    return [generate_individual() for _ in range(pop_size)]\n",
    "\n",
    "# 적합도 평가\n",
    "def evaluate_fitness(population):\n",
    "    fitness_scores = []\n",
    "    for individual in population:\n",
    "        fitness_scores.append(objective_function(individual))\n",
    "    return fitness_scores\n",
    "\n",
    "# 룰렛 휠 선택\n",
    "def roulette_wheel_selection(population, fitness_scores):\n",
    "    total_fitness = sum(fitness_scores)\n",
    "    selection_probs = [fitness / total_fitness for fitness in fitness_scores]\n",
    "    cumulative_probs = [sum(selection_probs[:i+1]) for i in range(len(selection_probs))]\n",
    "    selected = []\n",
    "    for _ in range(2):\n",
    "        r = random.random()\n",
    "        for i, cum_prob in enumerate(cumulative_probs):\n",
    "            if r <= cum_prob:\n",
    "                selected.append(population[i])\n",
    "                break\n",
    "    return selected\n",
    "\n",
    "# 교차\n",
    "def crossover(parent1, parent2):\n",
    "    return 0.5 * (parent1 + parent2)\n",
    "\n",
    "# 돌연변이\n",
    "def mutation(individual):\n",
    "    return individual + random.uniform(-1, 1)\n",
    "\n",
    "# 유전알고리즘\n",
    "def genetic_algorithm(pop_size, num_generations):\n",
    "    population = generate_population(pop_size)\n",
    "    for i in range(num_generations):\n",
    "        fitness_scores = evaluate_fitness(population)\n",
    "        new_population = []\n",
    "        while len(new_population) < pop_size:\n",
    "            parent1, parent2 = roulette_wheel_selection(population, fitness_scores)\n",
    "            child = crossover(parent1, parent2)\n",
    "            if random.random() < 0.1:\n",
    "                child = mutation(child)\n",
    "            if child < 0:\n",
    "                child = 0\n",
    "            elif child > 31:\n",
    "                child = 31\n",
    "            new_population.append(child)\n",
    "        population = new_population\n",
    "        if (i+1) % 10 == 0:\n",
    "            best_individual = max(population, key=objective_function)\n",
    "            best_fitness = objective_function(best_individual)\n",
    "            print(\"세대 {}의 최적해: {}, 적합도: {}\".format(i+1, best_individual, best_fitness))\n",
    "    best_individual = max(population, key=objective_function)\n",
    "    return best_individual\n",
    "\n",
    "# 실행\n",
    "best_solution = genetic_algorithm(pop_size=100, num_generations=100)\n",
    "print(\"최적해: \", best_solution)\n",
    "print(\"최적값: \", objective_function(best_solution))\n"
   ]
  },
  {
   "cell_type": "markdown",
   "id": "fa5d9c9e",
   "metadata": {},
   "source": [
    "# \n",
    "# \n",
    "# 모듈별 설명"
   ]
  },
  {
   "cell_type": "code",
   "execution_count": 28,
   "id": "338926eb",
   "metadata": {},
   "outputs": [],
   "source": [
    "import random\n",
    "import numpy as np\n",
    "import matplotlib.pyplot as plt"
   ]
  },
  {
   "cell_type": "markdown",
   "id": "4d24470b",
   "metadata": {},
   "source": [
    "# 1. 목적함수"
   ]
  },
  {
   "cell_type": "code",
   "execution_count": 29,
   "id": "3be83e4b",
   "metadata": {},
   "outputs": [
    {
     "name": "stdout",
     "output_type": "stream",
     "text": [
      "X의 범위는 0<= X <= 31\n"
     ]
    },
    {
     "data": {
      "image/png": "[encoded data removed]",
      "text/plain": [
       "<Figure size 640x480 with 1 Axes>"
      ]
     },
     "metadata": {},
     "output_type": "display_data"
    }
   ],
   "source": [
    "# 목적 함수 정의\n",
    "def objective_function(x):\n",
    "    return -x**2 + 40*x + 10\n",
    "\n",
    "print(\"X의 범위는 0<= X <= 31\")\n",
    "X_data = np.arange(0,31)\n",
    "plt.plot(X_data, objective_function(X_data))\n",
    "plt.xlabel(\"X\")\n",
    "plt.ylabel(\"Y\")\n",
    "plt.show()"
   ]
  },
  {
   "cell_type": "markdown",
   "id": "0c75024e",
   "metadata": {},
   "source": [
    "# 2. 염색체(Chromosome)과 모집단 정의"
   ]
  },
  {
   "cell_type": "code",
   "execution_count": 30,
   "id": "a4261967",
   "metadata": {},
   "outputs": [
    {
     "name": "stdout",
     "output_type": "stream",
     "text": [
      "0부터 31까지의 실수값\n",
      "하나의 염색체 : \n",
      "8.831023994626358\n",
      "5개의 염색체를 한 모집단으로 갖는 경우 : \n",
      "[0.8338861149278965, 19.150740422841633, 11.159933084085775, 30.67501203023359, 13.017474897185943]\n"
     ]
    }
   ],
   "source": [
    "# 초기 유전자 생성\n",
    "def generate_individual():\n",
    "    return random.uniform(0, 31)\n",
    "\n",
    "# 초기 세대 생성\n",
    "def generate_population(pop_size):\n",
    "    return [generate_individual() for _ in range(pop_size)]\n",
    "\n",
    "print(\"0부터 31까지의 실수값\")\n",
    "print(\"하나의 염색체 : \")\n",
    "print(generate_individual())\n",
    "\n",
    "print(\"5개의 염색체를 한 모집단으로 갖는 경우 : \")\n",
    "print(generate_population(5))"
   ]
  },
  {
   "cell_type": "markdown",
   "id": "8b065aa8",
   "metadata": {},
   "source": [
    "# 3. 적합도 함수"
   ]
  },
  {
   "cell_type": "code",
   "execution_count": 31,
   "id": "1e0ab25a",
   "metadata": {},
   "outputs": [
    {
     "name": "stdout",
     "output_type": "stream",
     "text": [
      "모집단의 염색체 :  [22.921150316111177, 29.364237041174373, 28.098895943261052, 15.146458869879075, 16.731603705438303]\n",
      "각 염색체 적합도 :  [401.46688083068364, 322.3110646366979, 344.40788450022956, 386.44313849822447, 399.3175856616954]\n"
     ]
    }
   ],
   "source": [
    "# 적합도 평가\n",
    "def evaluate_fitness(population):\n",
    "    fitness_scores = []\n",
    "    for individual in population:\n",
    "        fitness_scores.append(objective_function(individual))\n",
    "    return fitness_scores\n",
    "\n",
    "\n",
    "population = generate_population(5)\n",
    "fitness= evaluate_fitness(population)\n",
    "print(\"모집단의 염색체 : \", population)\n",
    "print(\"각 염색체 적합도 : \", fitness)"
   ]
  },
  {
   "cell_type": "markdown",
   "id": "3157cd5d",
   "metadata": {},
   "source": [
    "# 4. 선택"
   ]
  },
  {
   "cell_type": "code",
   "execution_count": 41,
   "id": "17dd7613",
   "metadata": {},
   "outputs": [
    {
     "name": "stdout",
     "output_type": "stream",
     "text": [
      "1세대 염색체 :\n",
      "[22.921150316111177, 29.364237041174373, 28.098895943261052, 15.146458869879075, 16.731603705438303]\n",
      "1세대 적합도 :\n",
      "[401.46688083068364, 322.3110646366979, 344.40788450022956, 386.44313849822447, 399.3175856616954] \n",
      "\n",
      "\n",
      "\n",
      "개체 순서로 상대적 적합도(확률) :\n",
      "[0.21654717064894805, 0.17385132485028826, 0.18577012575333288, 0.20844351615092002, 0.21538786259651085]\n",
      "누적 확률 :\n",
      "[0.21654717064894805, 0.39039849549923633, 0.5761686212525692, 0.7846121374034892, 1.0] \n",
      "\n",
      "\n",
      "바운더리 확률 :  0.4583973663786357\n",
      "0.4583973663786357 값 바운더리에 걸린 개체 : 28.098895943261052\n",
      "바운더리 확률 :  0.344138743487872\n",
      "0.344138743487872 값 바운더리에 걸린 개체 : 29.364237041174373\n",
      "선택된 염색체 :  [28.098895943261052, 29.364237041174373]\n"
     ]
    }
   ],
   "source": [
    "# 룰렛 휠 선택\n",
    "def roulette_wheel_selection(population, fitness_scores):\n",
    "    \n",
    "    # total_fitness : 한 세대의 모집단의 적합도 총합\n",
    "    total_fitness = sum(fitness_scores)\n",
    "    \n",
    "    # 적합도 총합으로 나눈 상대적 적합도\n",
    "    selection_probs = [fitness / total_fitness for fitness in fitness_scores]\n",
    "    print(\"개체 순서로 상대적 적합도(확률) :\")\n",
    "    print(selection_probs)\n",
    "    \n",
    "    # 누적 상대적 적합도 \n",
    "    cumulative_probs = [sum(selection_probs[:i+1]) for i in range(len(selection_probs))]\n",
    "    \n",
    "    print(\"누적 확률 :\")\n",
    "    print(cumulative_probs, '\\n\\n')\n",
    "    selected = []\n",
    "    for _ in range(2):\n",
    "        r = random.random()\n",
    "        print(\"바운더리 확률 : \", r)\n",
    "        for i, cum_prob in enumerate(cumulative_probs):\n",
    "            if r <= cum_prob:\n",
    "                selected.append(population[i])\n",
    "                print(\"{} 값 바운더리에 걸린 개체 : {}\".format(r, population[i]))\n",
    "                break\n",
    "    return selected\n",
    "\n",
    "\n",
    "print(\"1세대 염색체 :\")\n",
    "print(population)\n",
    "print(\"1세대 적합도 :\")\n",
    "print(fitness, '\\n\\n\\n')\n",
    "\n",
    "select = roulette_wheel_selection(population=population, fitness_scores=fitness)\n",
    "print(\"선택된 염색체 : \", select)"
   ]
  },
  {
   "cell_type": "markdown",
   "id": "fadb587c",
   "metadata": {},
   "source": [
    "# 5. 교차"
   ]
  },
  {
   "cell_type": "code",
   "execution_count": 21,
   "id": "5df612fc",
   "metadata": {},
   "outputs": [
    {
     "name": "stdout",
     "output_type": "stream",
     "text": [
      "선택된 부모1 :  24.089182212995805\n",
      "선택된 부모2 :  16.842957333105325\n",
      "부모1과 부모2 사이의 교차(부모1+부모2) / 2 : \n",
      "20.466069773050563\n"
     ]
    }
   ],
   "source": [
    "# 교차\n",
    "def crossover(parent1, parent2):\n",
    "    return 0.5 * (parent1 + parent2)\n",
    "\n",
    "print(\"선택된 부모1 : \", population[0])\n",
    "print(\"선택된 부모2 : \", population[1])\n",
    "\n",
    "print(\"부모1과 부모2 사이의 교차(부모1+부모2) / 2 : \" )\n",
    "child = crossover(parent1=population[0], parent2=population[1])\n",
    "print(child)"
   ]
  },
  {
   "cell_type": "markdown",
   "id": "6bf15ec4",
   "metadata": {},
   "source": [
    "# 6. 돌연변이"
   ]
  },
  {
   "cell_type": "code",
   "execution_count": 22,
   "id": "eef940be",
   "metadata": {},
   "outputs": [
    {
     "name": "stdout",
     "output_type": "stream",
     "text": [
      "자식 염색체 :  20.466069773050563\n",
      "돌연변이(-1과1 사이 랜덤 실수값 더함) 후 염색체 : \n",
      "20.133127987715344\n"
     ]
    }
   ],
   "source": [
    "# 돌연변이\n",
    "def mutation(individual):\n",
    "    return individual + random.uniform(-1, 1)\n",
    "\n",
    "print(\"자식 염색체 : \", child)\n",
    "gen = mutation(child)\n",
    "print(\"돌연변이(-1과1 사이 랜덤 실수값 더함) 후 염색체 : \")\n",
    "print(gen)"
   ]
  },
  {
   "cell_type": "markdown",
   "id": "2cd2046a",
   "metadata": {},
   "source": [
    "# 종합"
   ]
  },
  {
   "cell_type": "code",
   "execution_count": 27,
   "id": "959fe931",
   "metadata": {},
   "outputs": [
    {
     "name": "stdout",
     "output_type": "stream",
     "text": [
      "세대 10의 최적해: 19.718086406915877, 적합도: 409.9205247260344\n",
      "세대 20의 최적해: 19.930998655500787, 적합도: 409.9952388144573\n",
      "세대 30의 최적해: 19.76459982329656, 적합도: 409.944586756808\n",
      "세대 40의 최적해: 19.600885351696306, 적합도: 409.8407074975094\n",
      "세대 50의 최적해: 19.84857164252717, 적합도: 409.977069452553\n",
      "세대 60의 최적해: 19.915626164712823, 적합도: 409.99288105591893\n",
      "세대 70의 최적해: 19.605042085005, 적합도: 409.8440082453828\n",
      "세대 80의 최적해: 19.495122000795092, 적합도: 409.74509820591885\n",
      "세대 90의 최적해: 19.864061937225753, 적합도: 409.9815208430892\n",
      "세대 100의 최적해: 19.657520225036198, 적합도: 409.8827076037407\n",
      "최적해:  19.657520225036198\n",
      "최적값:  409.8827076037407\n"
     ]
    }
   ],
   "source": [
    "import os\n",
    "import sys\n",
    "\n",
    "# 유전알고리즘\n",
    "def genetic_algorithm(pop_size, num_generations):\n",
    "    # pop_size : 모집단 크기\n",
    "    # num_generations : 몇 번 세대를 반복할 것인가?\n",
    "    \n",
    "    \n",
    "    # population : 0과31사이의 실수값으로 생성된 100개의 염색체\n",
    "    population = generate_population(pop_size)\n",
    "    \n",
    "    # 세대 반복\n",
    "    for i in range(num_generations):\n",
    "        \n",
    "        # evaluate_fitness : 모집단의 적합도 계산\n",
    "        fitness_scores = evaluate_fitness(population)\n",
    "        \n",
    "        # 새로운 세대의 모집단 넣을 리스트 생성\n",
    "        new_population = []\n",
    "        \n",
    "        # pop_size = 100 이니 새로운 세대로 이전 모집단과 같은 수만큼 만들겠다는 의미임\n",
    "        while len(new_population) < pop_size:\n",
    "            \n",
    "            # 룰렛휠 선택\n",
    "            parent1, parent2 = roulette_wheel_selection(population, fitness_scores)\n",
    "            child = crossover(parent1, parent2)\n",
    "            if random.random() < 0.1:\n",
    "                child = mutation(child)\n",
    "            if child < 0:\n",
    "                child = 0\n",
    "            elif child > 31:\n",
    "                child = 31\n",
    "            new_population.append(child)\n",
    "        population = new_population\n",
    "        if (i+1) % 10 == 0:\n",
    "            best_individual = max(population, key=objective_function)\n",
    "            best_fitness = objective_function(best_individual)\n",
    "            print(\"세대 {}의 최적해: {}, 적합도: {}\".format(i+1, best_individual, best_fitness))\n",
    "    best_individual = max(population, key=objective_function)\n",
    "    return best_individual\n",
    "\n",
    "# 실행\n",
    "best_solution = genetic_algorithm(pop_size=100, num_generations=100)\n",
    "print(\"최적해: \", best_solution)\n",
    "print(\"최적값: \", objective_function(best_solution))"
   ]
  },
  {
   "cell_type": "code",
   "execution_count": null,
   "id": "8e924957",
   "metadata": {},
   "outputs": [],
   "source": []
  }
 ],
 "metadata": {
  "kernelspec": {
   "display_name": "Python 3 (ipykernel)",
   "language": "python",
   "name": "python3"
  },
  "language_info": {
   "codemirror_mode": {
    "name": "ipython",
    "version": 3
   },
   "file_extension": ".py",
   "mimetype": "text/x-python",
   "name": "python",
   "nbconvert_exporter": "python",
   "pygments_lexer": "ipython3",
   "version": "3.8.10"
  }
 },
 "nbformat": 4,
 "nbformat_minor": 5
}
